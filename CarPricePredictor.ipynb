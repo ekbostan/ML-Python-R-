{
  "nbformat": 4,
  "nbformat_minor": 0,
  "metadata": {
    "colab": {
      "provenance": []
    },
    "kernelspec": {
      "name": "python3",
      "display_name": "Python 3"
    },
    "language_info": {
      "name": "python"
    }
  },
  "cells": [
    {
      "cell_type": "markdown",
      "source": [
        "#Importing Modules\n"
      ],
      "metadata": {
        "id": "Zolibk_9cGOw"
      }
    },
    {
      "cell_type": "code",
      "source": [
        "import numpy as np\n",
        "import matplotlib.pyplot as plt\n",
        "import pandas as pd\n",
        "from sklearn.compose import ColumnTransformer\n",
        "from sklearn.preprocessing import OneHotEncoder\n",
        "from scipy.sparse import hstack\n",
        "from sklearn.model_selection import train_test_split\n",
        "from sklearn.linear_model import LinearRegression"
      ],
      "metadata": {
        "id": "YzFUIQtKcMSs"
      },
      "execution_count": 63,
      "outputs": []
    },
    {
      "cell_type": "markdown",
      "source": [
        "#Importing the dataset"
      ],
      "metadata": {
        "id": "4g5RHKkXb8VN"
      }
    },
    {
      "cell_type": "code",
      "execution_count": 64,
      "metadata": {
        "id": "DGz9WVZLTZb0"
      },
      "outputs": [],
      "source": [
        "dataset = pd.read_csv('CarPrice_Assignment.csv')\n",
        "X = dataset.iloc[:, :-1].values\n",
        "y = dataset.iloc[:, -1].values\n"
      ]
    },
    {
      "cell_type": "markdown",
      "source": [
        "#Encoding categorical data"
      ],
      "metadata": {
        "id": "qWHrH2CWcW-F"
      }
    },
    {
      "cell_type": "code",
      "source": [
        "ct = ColumnTransformer(transformers=[('encoder', OneHotEncoder(), [2,3,4,5,6,7,8,14,15,17])], remainder='passthrough')\n",
        "X = ct.fit_transform(X)\n",
        "\n",
        "# concatenate the numerical features (in dense format) to the one-hot encoded features (in sparse format)\n",
        "X = hstack((X[:, :-9].toarray(), X[:, -9:]))"
      ],
      "metadata": {
        "id": "mwRgwrAsUQKp"
      },
      "execution_count": 65,
      "outputs": []
    },
    {
      "cell_type": "markdown",
      "source": [
        "#Splitting the dataset into the Training set and Test set\n",
        "\n"
      ],
      "metadata": {
        "id": "wb04PKouce8Q"
      }
    },
    {
      "cell_type": "code",
      "source": [
        "X_train, X_test, y_train, y_test = train_test_split(X, y, test_size = 0.2, random_state = 0)"
      ],
      "metadata": {
        "id": "vR7bXUXyXqpU"
      },
      "execution_count": 66,
      "outputs": []
    },
    {
      "cell_type": "markdown",
      "source": [
        "#Training the Multiple Linear Regression model on the Training set"
      ],
      "metadata": {
        "id": "Opya-RWycqdm"
      }
    },
    {
      "cell_type": "code",
      "source": [
        "regressor = LinearRegression()\n",
        "regressor.fit(X_train, y_train)"
      ],
      "metadata": {
        "colab": {
          "base_uri": "https://localhost:8080/",
          "height": 75
        },
        "id": "ZHmnK6qOYt_G",
        "outputId": "c2f765eb-c54e-4605-e00c-80039bc5e029"
      },
      "execution_count": 61,
      "outputs": [
        {
          "output_type": "execute_result",
          "data": {
            "text/plain": [
              "LinearRegression()"
            ],
            "text/html": [
              "<style>#sk-container-id-4 {color: black;background-color: white;}#sk-container-id-4 pre{padding: 0;}#sk-container-id-4 div.sk-toggleable {background-color: white;}#sk-container-id-4 label.sk-toggleable__label {cursor: pointer;display: block;width: 100%;margin-bottom: 0;padding: 0.3em;box-sizing: border-box;text-align: center;}#sk-container-id-4 label.sk-toggleable__label-arrow:before {content: \"▸\";float: left;margin-right: 0.25em;color: #696969;}#sk-container-id-4 label.sk-toggleable__label-arrow:hover:before {color: black;}#sk-container-id-4 div.sk-estimator:hover label.sk-toggleable__label-arrow:before {color: black;}#sk-container-id-4 div.sk-toggleable__content {max-height: 0;max-width: 0;overflow: hidden;text-align: left;background-color: #f0f8ff;}#sk-container-id-4 div.sk-toggleable__content pre {margin: 0.2em;color: black;border-radius: 0.25em;background-color: #f0f8ff;}#sk-container-id-4 input.sk-toggleable__control:checked~div.sk-toggleable__content {max-height: 200px;max-width: 100%;overflow: auto;}#sk-container-id-4 input.sk-toggleable__control:checked~label.sk-toggleable__label-arrow:before {content: \"▾\";}#sk-container-id-4 div.sk-estimator input.sk-toggleable__control:checked~label.sk-toggleable__label {background-color: #d4ebff;}#sk-container-id-4 div.sk-label input.sk-toggleable__control:checked~label.sk-toggleable__label {background-color: #d4ebff;}#sk-container-id-4 input.sk-hidden--visually {border: 0;clip: rect(1px 1px 1px 1px);clip: rect(1px, 1px, 1px, 1px);height: 1px;margin: -1px;overflow: hidden;padding: 0;position: absolute;width: 1px;}#sk-container-id-4 div.sk-estimator {font-family: monospace;background-color: #f0f8ff;border: 1px dotted black;border-radius: 0.25em;box-sizing: border-box;margin-bottom: 0.5em;}#sk-container-id-4 div.sk-estimator:hover {background-color: #d4ebff;}#sk-container-id-4 div.sk-parallel-item::after {content: \"\";width: 100%;border-bottom: 1px solid gray;flex-grow: 1;}#sk-container-id-4 div.sk-label:hover label.sk-toggleable__label {background-color: #d4ebff;}#sk-container-id-4 div.sk-serial::before {content: \"\";position: absolute;border-left: 1px solid gray;box-sizing: border-box;top: 0;bottom: 0;left: 50%;z-index: 0;}#sk-container-id-4 div.sk-serial {display: flex;flex-direction: column;align-items: center;background-color: white;padding-right: 0.2em;padding-left: 0.2em;position: relative;}#sk-container-id-4 div.sk-item {position: relative;z-index: 1;}#sk-container-id-4 div.sk-parallel {display: flex;align-items: stretch;justify-content: center;background-color: white;position: relative;}#sk-container-id-4 div.sk-item::before, #sk-container-id-4 div.sk-parallel-item::before {content: \"\";position: absolute;border-left: 1px solid gray;box-sizing: border-box;top: 0;bottom: 0;left: 50%;z-index: -1;}#sk-container-id-4 div.sk-parallel-item {display: flex;flex-direction: column;z-index: 1;position: relative;background-color: white;}#sk-container-id-4 div.sk-parallel-item:first-child::after {align-self: flex-end;width: 50%;}#sk-container-id-4 div.sk-parallel-item:last-child::after {align-self: flex-start;width: 50%;}#sk-container-id-4 div.sk-parallel-item:only-child::after {width: 0;}#sk-container-id-4 div.sk-dashed-wrapped {border: 1px dashed gray;margin: 0 0.4em 0.5em 0.4em;box-sizing: border-box;padding-bottom: 0.4em;background-color: white;}#sk-container-id-4 div.sk-label label {font-family: monospace;font-weight: bold;display: inline-block;line-height: 1.2em;}#sk-container-id-4 div.sk-label-container {text-align: center;}#sk-container-id-4 div.sk-container {/* jupyter's `normalize.less` sets `[hidden] { display: none; }` but bootstrap.min.css set `[hidden] { display: none !important; }` so we also need the `!important` here to be able to override the default hidden behavior on the sphinx rendered scikit-learn.org. See: https://github.com/scikit-learn/scikit-learn/issues/21755 */display: inline-block !important;position: relative;}#sk-container-id-4 div.sk-text-repr-fallback {display: none;}</style><div id=\"sk-container-id-4\" class=\"sk-top-container\"><div class=\"sk-text-repr-fallback\"><pre>LinearRegression()</pre><b>In a Jupyter environment, please rerun this cell to show the HTML representation or trust the notebook. <br />On GitHub, the HTML representation is unable to render, please try loading this page with nbviewer.org.</b></div><div class=\"sk-container\" hidden><div class=\"sk-item\"><div class=\"sk-estimator sk-toggleable\"><input class=\"sk-toggleable__control sk-hidden--visually\" id=\"sk-estimator-id-4\" type=\"checkbox\" checked><label for=\"sk-estimator-id-4\" class=\"sk-toggleable__label sk-toggleable__label-arrow\">LinearRegression</label><div class=\"sk-toggleable__content\"><pre>LinearRegression()</pre></div></div></div></div></div>"
            ]
          },
          "metadata": {},
          "execution_count": 61
        }
      ]
    },
    {
      "cell_type": "markdown",
      "source": [
        "#Predicting the Test set results"
      ],
      "metadata": {
        "id": "N996Q7Z0Y4K8"
      }
    },
    {
      "cell_type": "code",
      "source": [
        "\n",
        "y_pred = regressor.predict(X_test)\n",
        "np.set_printoptions(precision=2)\n",
        "print(np.concatenate((y_pred.reshape(len(y_pred),1), y_test.reshape(len(y_test),1)),1))\n",
        "\n",
        "diff = np.abs(y_pred - y_test)\n",
        "mae = np.mean(diff)\n",
        "print(\"Mean Absolute Error:\", mae)"
      ],
      "metadata": {
        "colab": {
          "base_uri": "https://localhost:8080/"
        },
        "id": "dQB1a9bUY4uq",
        "outputId": "cf0c988a-c267-45d5-9518-81b94e714a4f"
      },
      "execution_count": 62,
      "outputs": [
        {
          "output_type": "stream",
          "name": "stdout",
          "text": [
            "[[ 5657.93  6795.  ]\n",
            " [14590.71 15750.  ]\n",
            " [14333.79 15250.  ]\n",
            " [-4707.21  5151.  ]\n",
            " [11294.23  9995.  ]\n",
            " [11952.47 11199.  ]\n",
            " [10907.31  5389.  ]\n",
            " [ 5977.92  7898.  ]\n",
            " [17334.3  17199.  ]\n",
            " [10238.53  6529.  ]\n",
            " [ 4524.7  20970.  ]\n",
            " [21935.26 31400.5 ]\n",
            " [ 9374.17 10945.  ]\n",
            " [21676.46 18344.  ]\n",
            " [ 8973.92  8916.5 ]\n",
            " [ 9587.94  9989.  ]\n",
            " [11460.15  9295.  ]\n",
            " [18769.44 18920.  ]\n",
            " [12318.09  7895.  ]\n",
            " [ 8569.61  6488.  ]\n",
            " [ 9593.65  9959.  ]\n",
            " [11401.14 15580.  ]\n",
            " [14114.89  9895.  ]\n",
            " [12302.57 11549.  ]\n",
            " [17514.69 15998.  ]\n",
            " [ 5398.22  5118.  ]\n",
            " [ 8798.28  6938.  ]\n",
            " [ 8776.51 16695.  ]\n",
            " [ 6427.56  8358.  ]\n",
            " [ 5846.72  5499.  ]\n",
            " [12116.68  7975.  ]\n",
            " [12842.73 12290.  ]\n",
            " [14766.57 22018.  ]\n",
            " [10387.    8948.  ]\n",
            " [ 7168.2   6849.  ]\n",
            " [15340.67 41315.  ]\n",
            " [17695.3  11595.  ]\n",
            " [16974.29 18150.  ]\n",
            " [ 7512.26  6377.  ]\n",
            " [35550.39 45400.  ]\n",
            " [ 7902.52  8916.5 ]]\n",
            "Mean Absolute Error: 3629.857989371545\n"
          ]
        }
      ]
    },
    {
      "cell_type": "markdown",
      "source": [
        "#Insights\n",
        "The linear regression model has an R-squared value of 0.87, indicating that the model explains 87% of the variability in the data. This is a reasonably good fit for the data.\n",
        "\n",
        "The mean absolute error of the model is 3629.86, which means that, on average, the model's predictions are off by $3629.86. This error is relatively high for a car price prediction model, and there is room for improvement.\n",
        "\n",
        "The features that are most important in predicting car prices are the car's make, fuel type, engine size, curb weight, horsepower, city and highway miles per gallon, and the car's age.\n",
        "\n",
        "To improve the model's performance, we can try using more advanced regression techniques, such as Ridge or Lasso regression, to reduce overfitting and improve the model's generalization ability.\n",
        "\n",
        "We can also try adding more features that may have a significant impact on car prices, such as the car's transmission type, number of cylinders, and safety features."
      ],
      "metadata": {
        "id": "w5ou0tYrb4EK"
      }
    }
  ]
}